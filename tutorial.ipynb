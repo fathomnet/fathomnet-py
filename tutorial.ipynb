{
  "nbformat": 4,
  "nbformat_minor": 0,
  "metadata": {
    "colab": {
      "name": "FathomNet Workshop.ipynb",
      "provenance": [],
      "collapsed_sections": [
        "QNYBxwg3UsZe",
        "tM6WRbgWWkV1",
        "nL-_pukeZcXB",
        "qKZhbKeXWgHd",
        "HrtWydOLWXM0",
        "p4oqvJXTWq__",
        "QjUISR3bsIZA",
        "Wh_fpnNBsMo-",
        "YhJe6TvnsYc9",
        "zRsLNBqlsdEy"
      ]
    },
    "kernelspec": {
      "name": "python3",
      "display_name": "Python 3"
    },
    "language_info": {
      "name": "python"
    }
  },
  "cells": [
    {
      "cell_type": "markdown",
      "source": [
        "# FathomNet Workshop\n",
        "*So you want to use FathomNet data...*\n",
        "\n",
        "<img src=\"https://raw.githubusercontent.com/fathomnet/fathomnet-logo/main/FathomNet_white_CenterText_400px.png\" alt=\"FathomNet logo\" width=\"200\"/>"
      ],
      "metadata": {
        "id": "ifmDW0dirq9D"
      }
    },
    {
      "cell_type": "markdown",
      "source": [
        "## Introduction\n",
        "\n",
        "TODO\n",
        "- Organize\n",
        "- Expand on what's on the FathomNet GitHub overall\n",
        "- Brief overview of what fathomnet-py does\n",
        "- Highlight some use cases?\n",
        "- Discuss what to expect in this notebook\n",
        "\n",
        "[FathomNet GitHub](https://github.com/fathomnet)\n",
        "\n",
        "[fathomnet-py](https://github.com/fathomnet/fathomnet-py)\n",
        "[docs](https://fathomnet-py.readthedocs.io)\n",
        "\n",
        "fathomnet-py is designed to help scientists, researchers, and developers interact with FathomNet data. \n",
        "\n",
        "The fathomnet-py API offers native Python interaction with the FathomNet REST API, abstracting away the underlying HTTP requests."
      ],
      "metadata": {
        "id": "QNYBxwg3UsZe"
      }
    },
    {
      "cell_type": "markdown",
      "source": [
        "### Installing `fathomnet-py`\n",
        "\n",
        "To install fathomnet-py, you will need to have Python 3.7 or greater installed first. Then, from the command-line:\n",
        "\n",
        "```bash\n",
        "pip install fathomnet\n",
        "```\n",
        "\n",
        "This notebook installs fathomnet-py in the [Setup](#Setup) section, along with some relevant packages for data manipulation and visualization."
      ],
      "metadata": {
        "id": "tM6WRbgWWkV1"
      }
    },
    {
      "cell_type": "markdown",
      "source": [
        "## Setup"
      ],
      "metadata": {
        "id": "ZkYCmUX6r0su"
      }
    },
    {
      "cell_type": "markdown",
      "source": [
        "First, we'll install a few packages via pip:"
      ],
      "metadata": {
        "id": "-uNeHCauXyvC"
      }
    },
    {
      "cell_type": "code",
      "source": [
        "!pip install -q -U fathomnet plotly opencv-python ipyleaflet prettyprinter"
      ],
      "metadata": {
        "id": "4Q--V_Xrr3js"
      },
      "execution_count": null,
      "outputs": []
    },
    {
      "cell_type": "markdown",
      "source": [
        "and import the modules we need for this notebook:"
      ],
      "metadata": {
        "id": "NfilAbptX2LU"
      }
    },
    {
      "cell_type": "code",
      "source": [
        "import ipywidgets as widgets  # Provides Jupyter embedded widgets\n",
        "import ipyleaflet             # Provides map widgets\n",
        "import requests               # Manages HTTP requests\n",
        "import numpy as np            # Facilitates array/matrix operations\n",
        "import cv2                    # Facilitates image operations\n",
        "import plotly.express as px   # Generates nice plots\n",
        "import random                 # Generates pseudo-random numbers\n",
        "from google.colab.patches import cv2_imshow\n",
        "import prettyprinter as pp\n",
        "pp.install_extras(exclude=['django', 'python'])\n",
        "\n",
        "# fathomnet-py API modules.\n",
        "# Latest documentation on available modules: \n",
        "# https://fathomnet-py.readthedocs.io/en/latest/api.html\n",
        "from fathomnet.api import images, boundingboxes"
      ],
      "metadata": {
        "id": "QpcYIXG-sofq"
      },
      "execution_count": null,
      "outputs": []
    },
    {
      "cell_type": "markdown",
      "source": [
        "## Day 1"
      ],
      "metadata": {
        "id": "Iazt9ae-sDgm"
      }
    },
    {
      "cell_type": "markdown",
      "source": [
        "### API overview\n",
        "Condense this."
      ],
      "metadata": {
        "id": "gs_5cXWbJw9d"
      }
    },
    {
      "cell_type": "markdown",
      "source": [
        "#### Data types"
      ],
      "metadata": {
        "id": "fnuI2lnyJ5z3"
      }
    },
    {
      "cell_type": "markdown",
      "source": [
        "- Bounding box\n",
        "- Image\n",
        "- Tag\n",
        "- Image set\n",
        "- Identity\n",
        "- Darwin core\n",
        "- Taxa\n",
        "- Marine region"
      ],
      "metadata": {
        "id": "qTPKglnfKNos"
      }
    },
    {
      "cell_type": "markdown",
      "source": [
        "#### Modules"
      ],
      "metadata": {
        "id": "PlGSfHJkKKsy"
      }
    },
    {
      "cell_type": "markdown",
      "source": [
        "- `boundingboxes`\n",
        "- `darwincore`\n",
        "- `images`\n",
        "- `geoimages`\n",
        "- `imagesetuploads`\n",
        "- `regions`\n",
        "- `stats`\n",
        "- `tags`\n",
        "- `taxa`\n",
        "- `users`\n",
        "- `firebase` & `xapikey`"
      ],
      "metadata": {
        "id": "_KFiqvFtKuqi"
      }
    },
    {
      "cell_type": "code",
      "source": [
        "from fathomnet.api import images\n",
        "\n",
        "example_image = images.find_by_uuid('79958ac5-832a-488c-9b48-cce7db346497')\n",
        "\n",
        "pp.pprint(example_image)"
      ],
      "metadata": {
        "id": "AqyGxrO-LSxP"
      },
      "execution_count": null,
      "outputs": []
    },
    {
      "cell_type": "markdown",
      "source": [
        "### Getting image data & bounding boxes for a concept"
      ],
      "metadata": {
        "id": "nL-_pukeZcXB"
      }
    },
    {
      "cell_type": "markdown",
      "source": [
        "First, let's pick a concept that we want to get data for.\n",
        "\n",
        "To list all the available concepts that have at least 1 bounding box, we can use the `boundingboxes` module:"
      ],
      "metadata": {
        "id": "oS585C0JZnqD"
      }
    },
    {
      "cell_type": "code",
      "source": [
        "# Make a bar chart of the top N concepts by bounding boxes\n",
        "N = 5\n",
        "\n",
        "# Get the number of bounding boxes for all concepts\n",
        "concept_counts = boundingboxes.count_total_by_concept()\n",
        "\n",
        "# Sort by number of bounding boxes\n",
        "concept_counts.sort(key=lambda cc: cc.count, reverse=True)\n",
        "\n",
        "# Get the top N concepts and their counts\n",
        "concepts, counts = zip(*((cc.concept, cc.count) for cc in concept_counts[:N]))\n",
        "\n",
        "# Make a bar chart\n",
        "fig = px.bar(x=concepts, y=counts, labels={'x': 'Concept', 'y': 'Bounding box count'}, text_auto=True)\n",
        "fig.show()"
      ],
      "metadata": {
        "id": "jLcJ0cHaPVoC"
      },
      "execution_count": null,
      "outputs": []
    },
    {
      "cell_type": "code",
      "source": [
        "# Get a list of all concepts that have at least 1 bounding box\n",
        "all_concepts = boundingboxes.find_concepts()\n",
        "\n",
        "# Print how many there are\n",
        "print('FathomNet has', len(all_concepts), 'concepts!')\n",
        "\n",
        "# Pick one!\n",
        "concept_combo = widgets.Combobox(\n",
        "    options=all_concepts,\n",
        "    description='Concept:',\n",
        "    placeholder='Double-click or type here',\n",
        "    ensure_option=True,\n",
        "    disabled=False\n",
        ")\n",
        "concept_combo"
      ],
      "metadata": {
        "id": "gOc40XMNaItV"
      },
      "execution_count": null,
      "outputs": []
    },
    {
      "cell_type": "code",
      "source": [
        "# Get the selected concept\n",
        "concept = concept_combo.value\n",
        "if not concept:\n",
        "  concept = 'Chionoecetes tanneri'\n",
        "  print('No concept selected. Using the default:', concept)\n",
        "\n",
        "# Pull the images from FathomNet\n",
        "concept_images = images.find_by_concept(concept)\n",
        "\n",
        "# Print the count\n",
        "print('Found', len(concept_images), 'images of', concept)"
      ],
      "metadata": {
        "id": "0NJoDLJ6ueCx"
      },
      "execution_count": null,
      "outputs": []
    },
    {
      "cell_type": "code",
      "source": [
        "# Pick a random image\n",
        "image = concept_images[random.randrange(len(concept_images))]\n",
        "\n",
        "# Fetch and show the image\n",
        "image_data = requests.get(image.url).content\n",
        "widgets.Image(\n",
        "    value=image_data,\n",
        "    format='png',\n",
        "    width=image.width,\n",
        "    height=image.height,\n",
        ")"
      ],
      "metadata": {
        "id": "xNmguhajsqzV"
      },
      "execution_count": null,
      "outputs": []
    },
    {
      "cell_type": "code",
      "source": [
        "# Render bounding boxes over the image\n",
        "buf = np.frombuffer(image_data, np.uint8)\n",
        "overlay_image = cv2.imdecode(buf, cv2.IMREAD_COLOR)\n",
        "for bbox in image.boundingBoxes:\n",
        "  pt1 = bbox.x, bbox.y\n",
        "  pt2 = bbox.x + bbox.width, bbox.y + bbox.height\n",
        "  overlay_image = cv2.rectangle(\n",
        "      overlay_image, \n",
        "      pt1, pt2, \n",
        "      color=(255, 255, 255),\n",
        "      thickness=2\n",
        "  )\n",
        "  overlay_image = cv2.putText(\n",
        "      overlay_image,\n",
        "      bbox.concept + (f'({bbox.altConcept})' if bbox.altConcept is not None else ''),\n",
        "      (bbox.x, bbox.y - 5),\n",
        "      color=(255, 255, 255),\n",
        "      fontFace=cv2.FONT_HERSHEY_PLAIN,\n",
        "      fontScale=0.05 * image.width ** 0.5,\n",
        "      thickness=1\n",
        "  )\n",
        "\n",
        "cv2_imshow(overlay_image)"
      ],
      "metadata": {
        "id": "JTD8_IRhjIjp"
      },
      "execution_count": null,
      "outputs": []
    },
    {
      "cell_type": "markdown",
      "source": [
        "### Depth histogram"
      ],
      "metadata": {
        "id": "qKZhbKeXWgHd"
      }
    },
    {
      "cell_type": "code",
      "source": [
        "# Extract the depth (in meters) from each image\n",
        "depths = [\n",
        "    image.depthMeters \n",
        "    for image in concept_images \n",
        "    if image.depthMeters is not None\n",
        "]\n",
        "\n",
        "# Make a horizontal histogram\n",
        "fig = px.histogram(y=depths, title=f'{concept} images by depth', labels={'y': 'depth (m)'})\n",
        "fig['layout']['yaxis']['autorange'] = 'reversed'\n",
        "fig.show()"
      ],
      "metadata": {
        "id": "dUhMWpTzv-es"
      },
      "execution_count": null,
      "outputs": []
    },
    {
      "cell_type": "markdown",
      "source": [
        "### Geographic heatmap"
      ],
      "metadata": {
        "id": "HrtWydOLWXM0"
      }
    },
    {
      "cell_type": "code",
      "source": [
        "# Extract the latitude/longitude from each image\n",
        "locations = [\n",
        "    (image.latitude, image.longitude)\n",
        "    for image in concept_images\n",
        "    if image.latitude is not None and image.longitude is not None\n",
        "]\n",
        "\n",
        "# Create a map from the Esri Ocean basemap\n",
        "center = (36.807, -121.988)  # Monterey Bay\n",
        "map = ipyleaflet.Map(\n",
        "    basemap=ipyleaflet.basemaps.Esri.OceanBasemap, \n",
        "    center=center, \n",
        "    zoom=10\n",
        ")\n",
        "map.layout.height = \"800px\"\n",
        "\n",
        "# Overlay the image locations as a heatmap\n",
        "heatmap = ipyleaflet.Heatmap(\n",
        "    locations=locations,\n",
        "    radius=20,\n",
        "    min_opacity=0.5\n",
        ")\n",
        "map.add_layer(heatmap)\n",
        "\n",
        "map"
      ],
      "metadata": {
        "id": "AeR_4Ad-wT-t"
      },
      "execution_count": null,
      "outputs": []
    },
    {
      "cell_type": "markdown",
      "source": [
        "## Day 2 (Breakout)"
      ],
      "metadata": {
        "id": "p4oqvJXTWq__"
      }
    },
    {
      "cell_type": "markdown",
      "source": [
        "### Download images & bounding boxes"
      ],
      "metadata": {
        "id": "QjUISR3bsIZA"
      }
    },
    {
      "cell_type": "markdown",
      "source": [
        "### Train a model"
      ],
      "metadata": {
        "id": "Wh_fpnNBsMo-"
      }
    },
    {
      "cell_type": "markdown",
      "source": [
        "### Download a model from the FathomNet model zoo"
      ],
      "metadata": {
        "id": "YhJe6TvnsYc9"
      }
    },
    {
      "cell_type": "markdown",
      "source": [
        "### Run inference"
      ],
      "metadata": {
        "id": "zRsLNBqlsdEy"
      }
    },
    {
      "cell_type": "code",
      "source": [
        ""
      ],
      "metadata": {
        "id": "VnS-jK4MWu2m"
      },
      "execution_count": null,
      "outputs": []
    }
  ]
}